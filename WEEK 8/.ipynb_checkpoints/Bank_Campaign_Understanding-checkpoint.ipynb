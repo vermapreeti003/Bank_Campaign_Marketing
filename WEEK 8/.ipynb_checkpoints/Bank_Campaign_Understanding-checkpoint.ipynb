{
 "cells": [
  {
   "cell_type": "markdown",
   "id": "f6ca0f59",
   "metadata": {},
   "source": [
    "# Preliminary Wrangling\n",
    "We will be analyzing Bank marketing campaigns dataset which is publicly available on Kaggle. This dataset describes Portugal bank marketing campaigns results. Conducted campaigns were based mostly on direct phone calls, offering bank client to place a term deposit. If the client says yes to opening the term deposit account, the target variable 'y' is marked as 'yes', else 'no'.\n",
    "\n",
    "We have following fields available in the dataset:\n",
    "\n",
    "* age : age (numeric)\n",
    "* job : type of job (categorical: \"admin.\",\"blue-collar\",\"entrepreneur\",\"housemaid\",\"management\",\"retired\",\"self-* * * * * employed\",\"services\",\"student\",\"technician\",\"unemployed\",\"unknown\")\n",
    "marital : marital status (categorical: \"divorced\",\"married\",\"single\",\"unknown\"; note: \"divorced\" means divorced or widowed)\n",
    "* education : educated upto (categorical: \"basic.4y\", \"basic.6y\", \"basic.9y\", \"high.school\", \"illiterate\", \"professional.course\", \"university.degree\", \"unknown\")\n",
    "* default : has credit in default? (categorical: \"no\",\"yes\",\"unknown\")\n",
    "* housing : has housing loan? (categorical: \"no\",\"yes\",\"unknown\")\n",
    "* loan : has personal loan? (categorical: \"no\",\"yes\",\"unknown\")\n",
    "* contact : contact communication type (categorical: \"cellular\",\"telephone\")\n",
    "* month : last contact month of year (categorical: \"jan\", \"feb\", \"mar\", ..., \"nov\", \"dec\")\n",
    "* day_of_week : last contact day of the week (categorical: \"mon\",\"tue\",\"wed\",\"thu\",\"fri\")\n",
    "* duration : last contact duration, in seconds (numeric).\n",
    "* campaign : number of contacts performed during this campaign and for this client (numeric, includes last contact)\n",
    "* pdays : number of days that passed by after the client was last contacted from a previous campaign (numeric; 999 means client was not previously contacted)\n",
    "* previous : number of contacts performed before this campaign and for this client (numeric)\n",
    "* poutcome : outcome of the previous marketing campaign (categorical: \"failure\",\"nonexistent\",\"success\")\n",
    "* emp.var.rate : employment variation rate - quarterly indicator (numeric)\n",
    "* cons.price.idx : consumer price index - monthly indicator (numeric)\n",
    "* cons.conf.idx : consumer confidence index - monthly indicator (numeric)\n",
    "* euribor3m : euribor 3 month rate - daily indicator (numeric)\n",
    "* nr.employed : number of employees - quarterly indicator (numeric) - I assume these are the number of employees working for the bank at the time of the call.\n",
    "* y : has the client subscribed a term deposit? (binary: \"yes\",\"no\")"
   ]
  },
  {
   "cell_type": "markdown",
   "id": "17186e9f",
   "metadata": {},
   "source": [
    "# Data Understanding\n"
   ]
  },
  {
   "cell_type": "code",
   "execution_count": 2,
   "id": "d4459ef6",
   "metadata": {},
   "outputs": [],
   "source": [
    "#importing libraries\n",
    "\n",
    "import pandas as pd \n",
    "import numpy as np\n",
    "import seaborn as sns \n",
    "import matplotlib.pyplot as plt \n",
    "from scipy import stats\n",
    "%matplotlib inline"
   ]
  },
  {
   "cell_type": "markdown",
   "id": "d56b4639",
   "metadata": {},
   "source": [
    "Load Data"
   ]
  },
  {
   "cell_type": "code",
   "execution_count": 3,
   "id": "a1cafdda",
   "metadata": {},
   "outputs": [
    {
     "data": {
      "text/html": [
       "<div>\n",
       "<style scoped>\n",
       "    .dataframe tbody tr th:only-of-type {\n",
       "        vertical-align: middle;\n",
       "    }\n",
       "\n",
       "    .dataframe tbody tr th {\n",
       "        vertical-align: top;\n",
       "    }\n",
       "\n",
       "    .dataframe thead th {\n",
       "        text-align: right;\n",
       "    }\n",
       "</style>\n",
       "<table border=\"1\" class=\"dataframe\">\n",
       "  <thead>\n",
       "    <tr style=\"text-align: right;\">\n",
       "      <th></th>\n",
       "      <th>age</th>\n",
       "      <th>job</th>\n",
       "      <th>marital</th>\n",
       "      <th>education</th>\n",
       "      <th>default</th>\n",
       "      <th>housing</th>\n",
       "      <th>loan</th>\n",
       "      <th>contact</th>\n",
       "      <th>month</th>\n",
       "      <th>day_of_week</th>\n",
       "      <th>...</th>\n",
       "      <th>campaign</th>\n",
       "      <th>pdays</th>\n",
       "      <th>previous</th>\n",
       "      <th>poutcome</th>\n",
       "      <th>emp.var.rate</th>\n",
       "      <th>cons.price.idx</th>\n",
       "      <th>cons.conf.idx</th>\n",
       "      <th>euribor3m</th>\n",
       "      <th>nr.employed</th>\n",
       "      <th>y</th>\n",
       "    </tr>\n",
       "  </thead>\n",
       "  <tbody>\n",
       "    <tr>\n",
       "      <th>0</th>\n",
       "      <td>56</td>\n",
       "      <td>housemaid</td>\n",
       "      <td>married</td>\n",
       "      <td>basic.4y</td>\n",
       "      <td>no</td>\n",
       "      <td>no</td>\n",
       "      <td>no</td>\n",
       "      <td>telephone</td>\n",
       "      <td>may</td>\n",
       "      <td>mon</td>\n",
       "      <td>...</td>\n",
       "      <td>1</td>\n",
       "      <td>999</td>\n",
       "      <td>0</td>\n",
       "      <td>nonexistent</td>\n",
       "      <td>1.1</td>\n",
       "      <td>93.994</td>\n",
       "      <td>-36.4</td>\n",
       "      <td>4.857</td>\n",
       "      <td>5191.0</td>\n",
       "      <td>no</td>\n",
       "    </tr>\n",
       "    <tr>\n",
       "      <th>1</th>\n",
       "      <td>57</td>\n",
       "      <td>services</td>\n",
       "      <td>married</td>\n",
       "      <td>high.school</td>\n",
       "      <td>unknown</td>\n",
       "      <td>no</td>\n",
       "      <td>no</td>\n",
       "      <td>telephone</td>\n",
       "      <td>may</td>\n",
       "      <td>mon</td>\n",
       "      <td>...</td>\n",
       "      <td>1</td>\n",
       "      <td>999</td>\n",
       "      <td>0</td>\n",
       "      <td>nonexistent</td>\n",
       "      <td>1.1</td>\n",
       "      <td>93.994</td>\n",
       "      <td>-36.4</td>\n",
       "      <td>4.857</td>\n",
       "      <td>5191.0</td>\n",
       "      <td>no</td>\n",
       "    </tr>\n",
       "    <tr>\n",
       "      <th>2</th>\n",
       "      <td>37</td>\n",
       "      <td>services</td>\n",
       "      <td>married</td>\n",
       "      <td>high.school</td>\n",
       "      <td>no</td>\n",
       "      <td>yes</td>\n",
       "      <td>no</td>\n",
       "      <td>telephone</td>\n",
       "      <td>may</td>\n",
       "      <td>mon</td>\n",
       "      <td>...</td>\n",
       "      <td>1</td>\n",
       "      <td>999</td>\n",
       "      <td>0</td>\n",
       "      <td>nonexistent</td>\n",
       "      <td>1.1</td>\n",
       "      <td>93.994</td>\n",
       "      <td>-36.4</td>\n",
       "      <td>4.857</td>\n",
       "      <td>5191.0</td>\n",
       "      <td>no</td>\n",
       "    </tr>\n",
       "    <tr>\n",
       "      <th>3</th>\n",
       "      <td>40</td>\n",
       "      <td>admin.</td>\n",
       "      <td>married</td>\n",
       "      <td>basic.6y</td>\n",
       "      <td>no</td>\n",
       "      <td>no</td>\n",
       "      <td>no</td>\n",
       "      <td>telephone</td>\n",
       "      <td>may</td>\n",
       "      <td>mon</td>\n",
       "      <td>...</td>\n",
       "      <td>1</td>\n",
       "      <td>999</td>\n",
       "      <td>0</td>\n",
       "      <td>nonexistent</td>\n",
       "      <td>1.1</td>\n",
       "      <td>93.994</td>\n",
       "      <td>-36.4</td>\n",
       "      <td>4.857</td>\n",
       "      <td>5191.0</td>\n",
       "      <td>no</td>\n",
       "    </tr>\n",
       "    <tr>\n",
       "      <th>4</th>\n",
       "      <td>56</td>\n",
       "      <td>services</td>\n",
       "      <td>married</td>\n",
       "      <td>high.school</td>\n",
       "      <td>no</td>\n",
       "      <td>no</td>\n",
       "      <td>yes</td>\n",
       "      <td>telephone</td>\n",
       "      <td>may</td>\n",
       "      <td>mon</td>\n",
       "      <td>...</td>\n",
       "      <td>1</td>\n",
       "      <td>999</td>\n",
       "      <td>0</td>\n",
       "      <td>nonexistent</td>\n",
       "      <td>1.1</td>\n",
       "      <td>93.994</td>\n",
       "      <td>-36.4</td>\n",
       "      <td>4.857</td>\n",
       "      <td>5191.0</td>\n",
       "      <td>no</td>\n",
       "    </tr>\n",
       "  </tbody>\n",
       "</table>\n",
       "<p>5 rows × 21 columns</p>\n",
       "</div>"
      ],
      "text/plain": [
       "   age        job  marital    education  default housing loan    contact  \\\n",
       "0   56  housemaid  married     basic.4y       no      no   no  telephone   \n",
       "1   57   services  married  high.school  unknown      no   no  telephone   \n",
       "2   37   services  married  high.school       no     yes   no  telephone   \n",
       "3   40     admin.  married     basic.6y       no      no   no  telephone   \n",
       "4   56   services  married  high.school       no      no  yes  telephone   \n",
       "\n",
       "  month day_of_week  ...  campaign  pdays  previous     poutcome emp.var.rate  \\\n",
       "0   may         mon  ...         1    999         0  nonexistent          1.1   \n",
       "1   may         mon  ...         1    999         0  nonexistent          1.1   \n",
       "2   may         mon  ...         1    999         0  nonexistent          1.1   \n",
       "3   may         mon  ...         1    999         0  nonexistent          1.1   \n",
       "4   may         mon  ...         1    999         0  nonexistent          1.1   \n",
       "\n",
       "   cons.price.idx  cons.conf.idx  euribor3m  nr.employed   y  \n",
       "0          93.994          -36.4      4.857       5191.0  no  \n",
       "1          93.994          -36.4      4.857       5191.0  no  \n",
       "2          93.994          -36.4      4.857       5191.0  no  \n",
       "3          93.994          -36.4      4.857       5191.0  no  \n",
       "4          93.994          -36.4      4.857       5191.0  no  \n",
       "\n",
       "[5 rows x 21 columns]"
      ]
     },
     "execution_count": 3,
     "metadata": {},
     "output_type": "execute_result"
    }
   ],
   "source": [
    "# load the train dataset\n",
    "bank_df= pd.read_csv(r\"C:\\Users\\Preeti\\Desktop\\Data Glacier Internship\\Bank_Campaign_Marketing\\Dataset\\bank-additional-full.csv\",sep=\";\")\n",
    "\n",
    "bank_df.head()"
   ]
  },
  {
   "cell_type": "code",
   "execution_count": 4,
   "id": "061cafe6",
   "metadata": {},
   "outputs": [
    {
     "name": "stdout",
     "output_type": "stream",
     "text": [
      "The dataset has 41188 records\n"
     ]
    }
   ],
   "source": [
    "# dataset records\n",
    "print( \"The dataset has {} records\". format(bank_df.shape[0]))"
   ]
  },
  {
   "cell_type": "code",
   "execution_count": 5,
   "id": "4181fa3c",
   "metadata": {},
   "outputs": [
    {
     "name": "stdout",
     "output_type": "stream",
     "text": [
      "The dataset has 21 columns\n"
     ]
    }
   ],
   "source": [
    "#the number of variable(columns)\n",
    "print( \"The dataset has {} columns\". format(bank_df.shape[1]))"
   ]
  },
  {
   "cell_type": "code",
   "execution_count": 6,
   "id": "083fe2c7",
   "metadata": {},
   "outputs": [],
   "source": [
    "# change column names\n",
    "bank_df.rename(columns = {'emp.var.rate':'EVR','cons.price.idx':'CPI','euribor3m':'euribor','nr.employed':'no_emp'}, inplace = True)"
   ]
  },
  {
   "cell_type": "code",
   "execution_count": 7,
   "id": "58e33425",
   "metadata": {},
   "outputs": [
    {
     "data": {
      "text/html": [
       "<div>\n",
       "<style scoped>\n",
       "    .dataframe tbody tr th:only-of-type {\n",
       "        vertical-align: middle;\n",
       "    }\n",
       "\n",
       "    .dataframe tbody tr th {\n",
       "        vertical-align: top;\n",
       "    }\n",
       "\n",
       "    .dataframe thead th {\n",
       "        text-align: right;\n",
       "    }\n",
       "</style>\n",
       "<table border=\"1\" class=\"dataframe\">\n",
       "  <thead>\n",
       "    <tr style=\"text-align: right;\">\n",
       "      <th></th>\n",
       "      <th>age</th>\n",
       "      <th>job</th>\n",
       "      <th>marital</th>\n",
       "      <th>education</th>\n",
       "      <th>default</th>\n",
       "      <th>housing</th>\n",
       "      <th>loan</th>\n",
       "      <th>contact</th>\n",
       "      <th>month</th>\n",
       "      <th>day_of_week</th>\n",
       "      <th>...</th>\n",
       "      <th>campaign</th>\n",
       "      <th>pdays</th>\n",
       "      <th>previous</th>\n",
       "      <th>poutcome</th>\n",
       "      <th>EVR</th>\n",
       "      <th>CPI</th>\n",
       "      <th>cons.conf.idx</th>\n",
       "      <th>euribor</th>\n",
       "      <th>no_emp</th>\n",
       "      <th>y</th>\n",
       "    </tr>\n",
       "  </thead>\n",
       "  <tbody>\n",
       "    <tr>\n",
       "      <th>0</th>\n",
       "      <td>56</td>\n",
       "      <td>housemaid</td>\n",
       "      <td>married</td>\n",
       "      <td>basic.4y</td>\n",
       "      <td>no</td>\n",
       "      <td>no</td>\n",
       "      <td>no</td>\n",
       "      <td>telephone</td>\n",
       "      <td>may</td>\n",
       "      <td>mon</td>\n",
       "      <td>...</td>\n",
       "      <td>1</td>\n",
       "      <td>999</td>\n",
       "      <td>0</td>\n",
       "      <td>nonexistent</td>\n",
       "      <td>1.1</td>\n",
       "      <td>93.994</td>\n",
       "      <td>-36.4</td>\n",
       "      <td>4.857</td>\n",
       "      <td>5191.0</td>\n",
       "      <td>no</td>\n",
       "    </tr>\n",
       "    <tr>\n",
       "      <th>1</th>\n",
       "      <td>57</td>\n",
       "      <td>services</td>\n",
       "      <td>married</td>\n",
       "      <td>high.school</td>\n",
       "      <td>NaN</td>\n",
       "      <td>no</td>\n",
       "      <td>no</td>\n",
       "      <td>telephone</td>\n",
       "      <td>may</td>\n",
       "      <td>mon</td>\n",
       "      <td>...</td>\n",
       "      <td>1</td>\n",
       "      <td>999</td>\n",
       "      <td>0</td>\n",
       "      <td>nonexistent</td>\n",
       "      <td>1.1</td>\n",
       "      <td>93.994</td>\n",
       "      <td>-36.4</td>\n",
       "      <td>4.857</td>\n",
       "      <td>5191.0</td>\n",
       "      <td>no</td>\n",
       "    </tr>\n",
       "    <tr>\n",
       "      <th>2</th>\n",
       "      <td>37</td>\n",
       "      <td>services</td>\n",
       "      <td>married</td>\n",
       "      <td>high.school</td>\n",
       "      <td>no</td>\n",
       "      <td>yes</td>\n",
       "      <td>no</td>\n",
       "      <td>telephone</td>\n",
       "      <td>may</td>\n",
       "      <td>mon</td>\n",
       "      <td>...</td>\n",
       "      <td>1</td>\n",
       "      <td>999</td>\n",
       "      <td>0</td>\n",
       "      <td>nonexistent</td>\n",
       "      <td>1.1</td>\n",
       "      <td>93.994</td>\n",
       "      <td>-36.4</td>\n",
       "      <td>4.857</td>\n",
       "      <td>5191.0</td>\n",
       "      <td>no</td>\n",
       "    </tr>\n",
       "    <tr>\n",
       "      <th>3</th>\n",
       "      <td>40</td>\n",
       "      <td>admin.</td>\n",
       "      <td>married</td>\n",
       "      <td>basic.6y</td>\n",
       "      <td>no</td>\n",
       "      <td>no</td>\n",
       "      <td>no</td>\n",
       "      <td>telephone</td>\n",
       "      <td>may</td>\n",
       "      <td>mon</td>\n",
       "      <td>...</td>\n",
       "      <td>1</td>\n",
       "      <td>999</td>\n",
       "      <td>0</td>\n",
       "      <td>nonexistent</td>\n",
       "      <td>1.1</td>\n",
       "      <td>93.994</td>\n",
       "      <td>-36.4</td>\n",
       "      <td>4.857</td>\n",
       "      <td>5191.0</td>\n",
       "      <td>no</td>\n",
       "    </tr>\n",
       "    <tr>\n",
       "      <th>4</th>\n",
       "      <td>56</td>\n",
       "      <td>services</td>\n",
       "      <td>married</td>\n",
       "      <td>high.school</td>\n",
       "      <td>no</td>\n",
       "      <td>no</td>\n",
       "      <td>yes</td>\n",
       "      <td>telephone</td>\n",
       "      <td>may</td>\n",
       "      <td>mon</td>\n",
       "      <td>...</td>\n",
       "      <td>1</td>\n",
       "      <td>999</td>\n",
       "      <td>0</td>\n",
       "      <td>nonexistent</td>\n",
       "      <td>1.1</td>\n",
       "      <td>93.994</td>\n",
       "      <td>-36.4</td>\n",
       "      <td>4.857</td>\n",
       "      <td>5191.0</td>\n",
       "      <td>no</td>\n",
       "    </tr>\n",
       "  </tbody>\n",
       "</table>\n",
       "<p>5 rows × 21 columns</p>\n",
       "</div>"
      ],
      "text/plain": [
       "   age        job  marital    education default housing loan    contact month  \\\n",
       "0   56  housemaid  married     basic.4y      no      no   no  telephone   may   \n",
       "1   57   services  married  high.school     NaN      no   no  telephone   may   \n",
       "2   37   services  married  high.school      no     yes   no  telephone   may   \n",
       "3   40     admin.  married     basic.6y      no      no   no  telephone   may   \n",
       "4   56   services  married  high.school      no      no  yes  telephone   may   \n",
       "\n",
       "  day_of_week  ...  campaign  pdays  previous     poutcome  EVR     CPI  \\\n",
       "0         mon  ...         1    999         0  nonexistent  1.1  93.994   \n",
       "1         mon  ...         1    999         0  nonexistent  1.1  93.994   \n",
       "2         mon  ...         1    999         0  nonexistent  1.1  93.994   \n",
       "3         mon  ...         1    999         0  nonexistent  1.1  93.994   \n",
       "4         mon  ...         1    999         0  nonexistent  1.1  93.994   \n",
       "\n",
       "   cons.conf.idx  euribor  no_emp   y  \n",
       "0          -36.4    4.857  5191.0  no  \n",
       "1          -36.4    4.857  5191.0  no  \n",
       "2          -36.4    4.857  5191.0  no  \n",
       "3          -36.4    4.857  5191.0  no  \n",
       "4          -36.4    4.857  5191.0  no  \n",
       "\n",
       "[5 rows x 21 columns]"
      ]
     },
     "execution_count": 7,
     "metadata": {},
     "output_type": "execute_result"
    }
   ],
   "source": [
    "#changing unknown to null values\n",
    "bank_df.replace(\"unknown\", np.nan, inplace=True)\n",
    "\n",
    "bank_df.head()"
   ]
  },
  {
   "cell_type": "code",
   "execution_count": 8,
   "id": "c5f9ad32",
   "metadata": {},
   "outputs": [
    {
     "data": {
      "text/plain": [
       "age                 0\n",
       "job               330\n",
       "marital            80\n",
       "education        1731\n",
       "default          8597\n",
       "housing           990\n",
       "loan              990\n",
       "contact             0\n",
       "month               0\n",
       "day_of_week         0\n",
       "duration            0\n",
       "campaign            0\n",
       "pdays               0\n",
       "previous            0\n",
       "poutcome            0\n",
       "EVR                 0\n",
       "CPI                 0\n",
       "cons.conf.idx       0\n",
       "euribor             0\n",
       "no_emp              0\n",
       "y                   0\n",
       "dtype: int64"
      ]
     },
     "execution_count": 8,
     "metadata": {},
     "output_type": "execute_result"
    }
   ],
   "source": [
    "#the missing values\n",
    "bank_df.isna().sum()"
   ]
  },
  {
   "cell_type": "code",
   "execution_count": 9,
   "id": "a62f41de",
   "metadata": {},
   "outputs": [
    {
     "name": "stdout",
     "output_type": "stream",
     "text": [
      "<class 'pandas.core.frame.DataFrame'>\n",
      "RangeIndex: 41188 entries, 0 to 41187\n",
      "Data columns (total 21 columns):\n",
      " #   Column         Non-Null Count  Dtype  \n",
      "---  ------         --------------  -----  \n",
      " 0   age            41188 non-null  int64  \n",
      " 1   job            40858 non-null  object \n",
      " 2   marital        41108 non-null  object \n",
      " 3   education      39457 non-null  object \n",
      " 4   default        32591 non-null  object \n",
      " 5   housing        40198 non-null  object \n",
      " 6   loan           40198 non-null  object \n",
      " 7   contact        41188 non-null  object \n",
      " 8   month          41188 non-null  object \n",
      " 9   day_of_week    41188 non-null  object \n",
      " 10  duration       41188 non-null  int64  \n",
      " 11  campaign       41188 non-null  int64  \n",
      " 12  pdays          41188 non-null  int64  \n",
      " 13  previous       41188 non-null  int64  \n",
      " 14  poutcome       41188 non-null  object \n",
      " 15  EVR            41188 non-null  float64\n",
      " 16  CPI            41188 non-null  float64\n",
      " 17  cons.conf.idx  41188 non-null  float64\n",
      " 18  euribor        41188 non-null  float64\n",
      " 19  no_emp         41188 non-null  float64\n",
      " 20  y              41188 non-null  object \n",
      "dtypes: float64(5), int64(5), object(11)\n",
      "memory usage: 6.6+ MB\n"
     ]
    }
   ],
   "source": [
    "bank_df.info()"
   ]
  },
  {
   "cell_type": "markdown",
   "id": "1f1057f7",
   "metadata": {},
   "source": [
    "Observation:\n",
    "* The dataset has 10 numerical variables and 11 categorical variables\n",
    "* All variables have the right datatypes\n"
   ]
  },
  {
   "cell_type": "code",
   "execution_count": 10,
   "id": "0caaab10",
   "metadata": {},
   "outputs": [
    {
     "data": {
      "text/plain": [
       "True"
      ]
     },
     "execution_count": 10,
     "metadata": {},
     "output_type": "execute_result"
    }
   ],
   "source": [
    "#checking duplicates\n",
    "bank_df.duplicated().sum().any()"
   ]
  },
  {
   "cell_type": "code",
   "execution_count": 11,
   "id": "d388590e",
   "metadata": {},
   "outputs": [
    {
     "name": "stdout",
     "output_type": "stream",
     "text": [
      "The file size is: 5834924 bytes\n"
     ]
    }
   ],
   "source": [
    "#file size\n",
    "import os\n",
    "file_size = os.path.getsize(r\"C:\\Users\\Preeti\\Desktop\\Data Glacier Internship\\Bank_Campaign_Marketing\\Dataset\\bank-additional-full.csv\")\n",
    "\n",
    "print(\"The file size is: {} bytes\".format(file_size))"
   ]
  },
  {
   "cell_type": "code",
   "execution_count": 12,
   "id": "f683b37c",
   "metadata": {},
   "outputs": [
    {
     "data": {
      "text/plain": [
       "(41176, 21)"
      ]
     },
     "execution_count": 12,
     "metadata": {},
     "output_type": "execute_result"
    }
   ],
   "source": [
    "bank_df.drop_duplicates(inplace= True)\n",
    "bank_df.shape"
   ]
  },
  {
   "cell_type": "markdown",
   "id": "0d7754bd",
   "metadata": {},
   "source": [
    "Our target variable 'y' is categorical variable with the values of 'yes' and 'no'. It could be useful if we can add one more column where we record the same result in binary 0 and 1."
   ]
  },
  {
   "cell_type": "code",
   "execution_count": 17,
   "id": "f8bd93b9",
   "metadata": {},
   "outputs": [
    {
     "data": {
      "text/plain": [
       "no     36537\n",
       "yes     4639\n",
       "Name: y, dtype: int64"
      ]
     },
     "execution_count": 17,
     "metadata": {},
     "output_type": "execute_result"
    }
   ],
   "source": [
    "#the target variable\n",
    "bank_df[\"y\"]. value_counts()"
   ]
  },
  {
   "cell_type": "code",
   "execution_count": 18,
   "id": "ea6a774a",
   "metadata": {},
   "outputs": [],
   "source": [
    "#new column will be y_n where n denotes numeric\n",
    "bank_df.loc[bank_df['y']== 'yes','y_n']=1\n",
    "bank_df.loc[bank_df['y']=='no','y_n']=0"
   ]
  },
  {
   "cell_type": "code",
   "execution_count": 19,
   "id": "683d751b",
   "metadata": {},
   "outputs": [
    {
     "data": {
      "text/html": [
       "<div>\n",
       "<style scoped>\n",
       "    .dataframe tbody tr th:only-of-type {\n",
       "        vertical-align: middle;\n",
       "    }\n",
       "\n",
       "    .dataframe tbody tr th {\n",
       "        vertical-align: top;\n",
       "    }\n",
       "\n",
       "    .dataframe thead th {\n",
       "        text-align: right;\n",
       "    }\n",
       "</style>\n",
       "<table border=\"1\" class=\"dataframe\">\n",
       "  <thead>\n",
       "    <tr style=\"text-align: right;\">\n",
       "      <th></th>\n",
       "      <th>age</th>\n",
       "      <th>job</th>\n",
       "      <th>marital</th>\n",
       "      <th>education</th>\n",
       "      <th>default</th>\n",
       "      <th>housing</th>\n",
       "      <th>loan</th>\n",
       "      <th>contact</th>\n",
       "      <th>month</th>\n",
       "      <th>day_of_week</th>\n",
       "      <th>...</th>\n",
       "      <th>pdays</th>\n",
       "      <th>previous</th>\n",
       "      <th>poutcome</th>\n",
       "      <th>EVR</th>\n",
       "      <th>CPI</th>\n",
       "      <th>cons.conf.idx</th>\n",
       "      <th>euribor</th>\n",
       "      <th>no_emp</th>\n",
       "      <th>y</th>\n",
       "      <th>y_n</th>\n",
       "    </tr>\n",
       "  </thead>\n",
       "  <tbody>\n",
       "    <tr>\n",
       "      <th>count</th>\n",
       "      <td>41176.00000</td>\n",
       "      <td>40846</td>\n",
       "      <td>41096</td>\n",
       "      <td>39446</td>\n",
       "      <td>32580</td>\n",
       "      <td>40186</td>\n",
       "      <td>40186</td>\n",
       "      <td>41176</td>\n",
       "      <td>41176</td>\n",
       "      <td>41176</td>\n",
       "      <td>...</td>\n",
       "      <td>41176.000000</td>\n",
       "      <td>41176.000000</td>\n",
       "      <td>41176</td>\n",
       "      <td>41176.000000</td>\n",
       "      <td>41176.000000</td>\n",
       "      <td>41176.000000</td>\n",
       "      <td>41176.000000</td>\n",
       "      <td>41176.000000</td>\n",
       "      <td>41176</td>\n",
       "      <td>41176.000000</td>\n",
       "    </tr>\n",
       "    <tr>\n",
       "      <th>unique</th>\n",
       "      <td>NaN</td>\n",
       "      <td>11</td>\n",
       "      <td>3</td>\n",
       "      <td>7</td>\n",
       "      <td>2</td>\n",
       "      <td>2</td>\n",
       "      <td>2</td>\n",
       "      <td>2</td>\n",
       "      <td>10</td>\n",
       "      <td>5</td>\n",
       "      <td>...</td>\n",
       "      <td>NaN</td>\n",
       "      <td>NaN</td>\n",
       "      <td>3</td>\n",
       "      <td>NaN</td>\n",
       "      <td>NaN</td>\n",
       "      <td>NaN</td>\n",
       "      <td>NaN</td>\n",
       "      <td>NaN</td>\n",
       "      <td>2</td>\n",
       "      <td>NaN</td>\n",
       "    </tr>\n",
       "    <tr>\n",
       "      <th>top</th>\n",
       "      <td>NaN</td>\n",
       "      <td>admin.</td>\n",
       "      <td>married</td>\n",
       "      <td>university.degree</td>\n",
       "      <td>no</td>\n",
       "      <td>yes</td>\n",
       "      <td>no</td>\n",
       "      <td>cellular</td>\n",
       "      <td>may</td>\n",
       "      <td>thu</td>\n",
       "      <td>...</td>\n",
       "      <td>NaN</td>\n",
       "      <td>NaN</td>\n",
       "      <td>nonexistent</td>\n",
       "      <td>NaN</td>\n",
       "      <td>NaN</td>\n",
       "      <td>NaN</td>\n",
       "      <td>NaN</td>\n",
       "      <td>NaN</td>\n",
       "      <td>no</td>\n",
       "      <td>NaN</td>\n",
       "    </tr>\n",
       "    <tr>\n",
       "      <th>freq</th>\n",
       "      <td>NaN</td>\n",
       "      <td>10419</td>\n",
       "      <td>24921</td>\n",
       "      <td>12164</td>\n",
       "      <td>32577</td>\n",
       "      <td>21571</td>\n",
       "      <td>33938</td>\n",
       "      <td>26135</td>\n",
       "      <td>13767</td>\n",
       "      <td>8618</td>\n",
       "      <td>...</td>\n",
       "      <td>NaN</td>\n",
       "      <td>NaN</td>\n",
       "      <td>35551</td>\n",
       "      <td>NaN</td>\n",
       "      <td>NaN</td>\n",
       "      <td>NaN</td>\n",
       "      <td>NaN</td>\n",
       "      <td>NaN</td>\n",
       "      <td>36537</td>\n",
       "      <td>NaN</td>\n",
       "    </tr>\n",
       "    <tr>\n",
       "      <th>mean</th>\n",
       "      <td>40.02380</td>\n",
       "      <td>NaN</td>\n",
       "      <td>NaN</td>\n",
       "      <td>NaN</td>\n",
       "      <td>NaN</td>\n",
       "      <td>NaN</td>\n",
       "      <td>NaN</td>\n",
       "      <td>NaN</td>\n",
       "      <td>NaN</td>\n",
       "      <td>NaN</td>\n",
       "      <td>...</td>\n",
       "      <td>962.464810</td>\n",
       "      <td>0.173013</td>\n",
       "      <td>NaN</td>\n",
       "      <td>0.081922</td>\n",
       "      <td>93.575720</td>\n",
       "      <td>-40.502863</td>\n",
       "      <td>3.621293</td>\n",
       "      <td>5167.034870</td>\n",
       "      <td>NaN</td>\n",
       "      <td>0.112663</td>\n",
       "    </tr>\n",
       "    <tr>\n",
       "      <th>std</th>\n",
       "      <td>10.42068</td>\n",
       "      <td>NaN</td>\n",
       "      <td>NaN</td>\n",
       "      <td>NaN</td>\n",
       "      <td>NaN</td>\n",
       "      <td>NaN</td>\n",
       "      <td>NaN</td>\n",
       "      <td>NaN</td>\n",
       "      <td>NaN</td>\n",
       "      <td>NaN</td>\n",
       "      <td>...</td>\n",
       "      <td>186.937102</td>\n",
       "      <td>0.494964</td>\n",
       "      <td>NaN</td>\n",
       "      <td>1.570883</td>\n",
       "      <td>0.578839</td>\n",
       "      <td>4.627860</td>\n",
       "      <td>1.734437</td>\n",
       "      <td>72.251364</td>\n",
       "      <td>NaN</td>\n",
       "      <td>0.316184</td>\n",
       "    </tr>\n",
       "    <tr>\n",
       "      <th>min</th>\n",
       "      <td>17.00000</td>\n",
       "      <td>NaN</td>\n",
       "      <td>NaN</td>\n",
       "      <td>NaN</td>\n",
       "      <td>NaN</td>\n",
       "      <td>NaN</td>\n",
       "      <td>NaN</td>\n",
       "      <td>NaN</td>\n",
       "      <td>NaN</td>\n",
       "      <td>NaN</td>\n",
       "      <td>...</td>\n",
       "      <td>0.000000</td>\n",
       "      <td>0.000000</td>\n",
       "      <td>NaN</td>\n",
       "      <td>-3.400000</td>\n",
       "      <td>92.201000</td>\n",
       "      <td>-50.800000</td>\n",
       "      <td>0.634000</td>\n",
       "      <td>4963.600000</td>\n",
       "      <td>NaN</td>\n",
       "      <td>0.000000</td>\n",
       "    </tr>\n",
       "    <tr>\n",
       "      <th>25%</th>\n",
       "      <td>32.00000</td>\n",
       "      <td>NaN</td>\n",
       "      <td>NaN</td>\n",
       "      <td>NaN</td>\n",
       "      <td>NaN</td>\n",
       "      <td>NaN</td>\n",
       "      <td>NaN</td>\n",
       "      <td>NaN</td>\n",
       "      <td>NaN</td>\n",
       "      <td>NaN</td>\n",
       "      <td>...</td>\n",
       "      <td>999.000000</td>\n",
       "      <td>0.000000</td>\n",
       "      <td>NaN</td>\n",
       "      <td>-1.800000</td>\n",
       "      <td>93.075000</td>\n",
       "      <td>-42.700000</td>\n",
       "      <td>1.344000</td>\n",
       "      <td>5099.100000</td>\n",
       "      <td>NaN</td>\n",
       "      <td>0.000000</td>\n",
       "    </tr>\n",
       "    <tr>\n",
       "      <th>50%</th>\n",
       "      <td>38.00000</td>\n",
       "      <td>NaN</td>\n",
       "      <td>NaN</td>\n",
       "      <td>NaN</td>\n",
       "      <td>NaN</td>\n",
       "      <td>NaN</td>\n",
       "      <td>NaN</td>\n",
       "      <td>NaN</td>\n",
       "      <td>NaN</td>\n",
       "      <td>NaN</td>\n",
       "      <td>...</td>\n",
       "      <td>999.000000</td>\n",
       "      <td>0.000000</td>\n",
       "      <td>NaN</td>\n",
       "      <td>1.100000</td>\n",
       "      <td>93.749000</td>\n",
       "      <td>-41.800000</td>\n",
       "      <td>4.857000</td>\n",
       "      <td>5191.000000</td>\n",
       "      <td>NaN</td>\n",
       "      <td>0.000000</td>\n",
       "    </tr>\n",
       "    <tr>\n",
       "      <th>75%</th>\n",
       "      <td>47.00000</td>\n",
       "      <td>NaN</td>\n",
       "      <td>NaN</td>\n",
       "      <td>NaN</td>\n",
       "      <td>NaN</td>\n",
       "      <td>NaN</td>\n",
       "      <td>NaN</td>\n",
       "      <td>NaN</td>\n",
       "      <td>NaN</td>\n",
       "      <td>NaN</td>\n",
       "      <td>...</td>\n",
       "      <td>999.000000</td>\n",
       "      <td>0.000000</td>\n",
       "      <td>NaN</td>\n",
       "      <td>1.400000</td>\n",
       "      <td>93.994000</td>\n",
       "      <td>-36.400000</td>\n",
       "      <td>4.961000</td>\n",
       "      <td>5228.100000</td>\n",
       "      <td>NaN</td>\n",
       "      <td>0.000000</td>\n",
       "    </tr>\n",
       "    <tr>\n",
       "      <th>max</th>\n",
       "      <td>98.00000</td>\n",
       "      <td>NaN</td>\n",
       "      <td>NaN</td>\n",
       "      <td>NaN</td>\n",
       "      <td>NaN</td>\n",
       "      <td>NaN</td>\n",
       "      <td>NaN</td>\n",
       "      <td>NaN</td>\n",
       "      <td>NaN</td>\n",
       "      <td>NaN</td>\n",
       "      <td>...</td>\n",
       "      <td>999.000000</td>\n",
       "      <td>7.000000</td>\n",
       "      <td>NaN</td>\n",
       "      <td>1.400000</td>\n",
       "      <td>94.767000</td>\n",
       "      <td>-26.900000</td>\n",
       "      <td>5.045000</td>\n",
       "      <td>5228.100000</td>\n",
       "      <td>NaN</td>\n",
       "      <td>1.000000</td>\n",
       "    </tr>\n",
       "  </tbody>\n",
       "</table>\n",
       "<p>11 rows × 22 columns</p>\n",
       "</div>"
      ],
      "text/plain": [
       "                age     job  marital          education default housing  \\\n",
       "count   41176.00000   40846    41096              39446   32580   40186   \n",
       "unique          NaN      11        3                  7       2       2   \n",
       "top             NaN  admin.  married  university.degree      no     yes   \n",
       "freq            NaN   10419    24921              12164   32577   21571   \n",
       "mean       40.02380     NaN      NaN                NaN     NaN     NaN   \n",
       "std        10.42068     NaN      NaN                NaN     NaN     NaN   \n",
       "min        17.00000     NaN      NaN                NaN     NaN     NaN   \n",
       "25%        32.00000     NaN      NaN                NaN     NaN     NaN   \n",
       "50%        38.00000     NaN      NaN                NaN     NaN     NaN   \n",
       "75%        47.00000     NaN      NaN                NaN     NaN     NaN   \n",
       "max        98.00000     NaN      NaN                NaN     NaN     NaN   \n",
       "\n",
       "         loan   contact  month day_of_week  ...         pdays      previous  \\\n",
       "count   40186     41176  41176       41176  ...  41176.000000  41176.000000   \n",
       "unique      2         2     10           5  ...           NaN           NaN   \n",
       "top        no  cellular    may         thu  ...           NaN           NaN   \n",
       "freq    33938     26135  13767        8618  ...           NaN           NaN   \n",
       "mean      NaN       NaN    NaN         NaN  ...    962.464810      0.173013   \n",
       "std       NaN       NaN    NaN         NaN  ...    186.937102      0.494964   \n",
       "min       NaN       NaN    NaN         NaN  ...      0.000000      0.000000   \n",
       "25%       NaN       NaN    NaN         NaN  ...    999.000000      0.000000   \n",
       "50%       NaN       NaN    NaN         NaN  ...    999.000000      0.000000   \n",
       "75%       NaN       NaN    NaN         NaN  ...    999.000000      0.000000   \n",
       "max       NaN       NaN    NaN         NaN  ...    999.000000      7.000000   \n",
       "\n",
       "           poutcome           EVR           CPI  cons.conf.idx       euribor  \\\n",
       "count         41176  41176.000000  41176.000000   41176.000000  41176.000000   \n",
       "unique            3           NaN           NaN            NaN           NaN   \n",
       "top     nonexistent           NaN           NaN            NaN           NaN   \n",
       "freq          35551           NaN           NaN            NaN           NaN   \n",
       "mean            NaN      0.081922     93.575720     -40.502863      3.621293   \n",
       "std             NaN      1.570883      0.578839       4.627860      1.734437   \n",
       "min             NaN     -3.400000     92.201000     -50.800000      0.634000   \n",
       "25%             NaN     -1.800000     93.075000     -42.700000      1.344000   \n",
       "50%             NaN      1.100000     93.749000     -41.800000      4.857000   \n",
       "75%             NaN      1.400000     93.994000     -36.400000      4.961000   \n",
       "max             NaN      1.400000     94.767000     -26.900000      5.045000   \n",
       "\n",
       "              no_emp      y           y_n  \n",
       "count   41176.000000  41176  41176.000000  \n",
       "unique           NaN      2           NaN  \n",
       "top              NaN     no           NaN  \n",
       "freq             NaN  36537           NaN  \n",
       "mean     5167.034870    NaN      0.112663  \n",
       "std        72.251364    NaN      0.316184  \n",
       "min      4963.600000    NaN      0.000000  \n",
       "25%      5099.100000    NaN      0.000000  \n",
       "50%      5191.000000    NaN      0.000000  \n",
       "75%      5228.100000    NaN      0.000000  \n",
       "max      5228.100000    NaN      1.000000  \n",
       "\n",
       "[11 rows x 22 columns]"
      ]
     },
     "execution_count": 19,
     "metadata": {},
     "output_type": "execute_result"
    }
   ],
   "source": [
    "#summary of numerical dataset\n",
    "bank_df.describe(include='all')"
   ]
  },
  {
   "cell_type": "markdown",
   "id": "e6365d75",
   "metadata": {},
   "source": [
    "Observation:\n",
    "* The mean age of the respondents is 40 years, minimum age is 17 years and maximum age 98 years\n",
    "* The mean duration of the time taken talking to the respondent is 258.3 seconds, minimum time is 0 seconds. This will be discarded as it doesnot add value to our analysis.\n",
    "* The minimum number of contacts during this campaign was 1 contact and the maximum was 56 contacts\n",
    "* 13pdays variable value 999 means the lapsed days before the person was conducted thus we will make this value to be zero.\n"
   ]
  },
  {
   "cell_type": "code",
   "execution_count": 20,
   "id": "d95a6404",
   "metadata": {},
   "outputs": [
    {
     "name": "stdout",
     "output_type": "stream",
     "text": [
      "<class 'pandas.core.frame.DataFrame'>\n",
      "Int64Index: 41176 entries, 0 to 41187\n",
      "Data columns (total 22 columns):\n",
      " #   Column         Non-Null Count  Dtype  \n",
      "---  ------         --------------  -----  \n",
      " 0   age            41176 non-null  int64  \n",
      " 1   job            40846 non-null  object \n",
      " 2   marital        41096 non-null  object \n",
      " 3   education      39446 non-null  object \n",
      " 4   default        32580 non-null  object \n",
      " 5   housing        40186 non-null  object \n",
      " 6   loan           40186 non-null  object \n",
      " 7   contact        41176 non-null  object \n",
      " 8   month          41176 non-null  object \n",
      " 9   day_of_week    41176 non-null  object \n",
      " 10  duration       41176 non-null  int64  \n",
      " 11  campaign       41176 non-null  int64  \n",
      " 12  pdays          41176 non-null  int64  \n",
      " 13  previous       41176 non-null  int64  \n",
      " 14  poutcome       41176 non-null  object \n",
      " 15  EVR            41176 non-null  float64\n",
      " 16  CPI            41176 non-null  float64\n",
      " 17  cons.conf.idx  41176 non-null  float64\n",
      " 18  euribor        41176 non-null  float64\n",
      " 19  no_emp         41176 non-null  float64\n",
      " 20  y              41176 non-null  object \n",
      " 21  y_n            41176 non-null  float64\n",
      "dtypes: float64(6), int64(5), object(11)\n",
      "memory usage: 7.2+ MB\n"
     ]
    }
   ],
   "source": [
    "bank_df.info()"
   ]
  },
  {
   "cell_type": "markdown",
   "id": "faa70e0d",
   "metadata": {},
   "source": [
    "# * What is the structure of your dataset?\n",
    "\n",
    "  There are 21 columns and 41176 rows in the dataset. Some of the variables in the dataset has values as 'unknown'. As removing   these values could reduce our dataset size and impact our analysis, we will choose to keep the values as is.\n",
    "  \n",
    "  \n",
    "# * What is/are the main feature of interest in your dataset?\n",
    "\n",
    "  The main feature of interest in the dataset is column 'y' since this records the result whether the client agreed to opening the term deposit\n",
    " "
   ]
  },
  {
   "cell_type": "markdown",
   "id": "7f6a5c60",
   "metadata": {},
   "source": [
    "# Check Skewness"
   ]
  },
  {
   "cell_type": "code",
   "execution_count": 21,
   "id": "9497a97c",
   "metadata": {},
   "outputs": [
    {
     "data": {
      "image/png": "[encoded data removed]",
      "text/plain": [
       "<Figure size 640x480 with 1 Axes>"
      ]
     },
     "metadata": {},
     "output_type": "display_data"
    }
   ],
   "source": [
    "#histplot skewness checking\n",
    "skewness = bank_df.copy()\n",
    "plt.plot(figsize=(10,30))\n",
    "sns.histplot(skewness, x='age', bins=20, kde= True, color='Pink', edgecolor='blue')\n",
    "plt.title('Age Histplot')\n",
    "plt.show()"
   ]
  },
  {
   "cell_type": "markdown",
   "id": "81b92e18",
   "metadata": {},
   "source": [
    "Observation:\n",
    "The age variable is skewed to the right(positive skewness), i.e. mean is greater than the mode"
   ]
  },
  {
   "cell_type": "code",
   "execution_count": 22,
   "id": "c27a20c0",
   "metadata": {},
   "outputs": [
    {
     "data": {
      "image/png": "[encoded data removed]",
      "text/plain": [
       "<Figure size 640x480 with 1 Axes>"
      ]
     },
     "metadata": {},
     "output_type": "display_data"
    }
   ],
   "source": [
    "#checking histplot for skewness\n",
    "skewness= bank_df.copy()\n",
    "plt.plot(figsize=(10,30))\n",
    "sns.histplot(skewness, x='no_emp', bins=20, kde= True, color='Red', edgecolor='Black')\n",
    "plt.title('Number of employed histplot')\n",
    "plt.show()"
   ]
  },
  {
   "cell_type": "markdown",
   "id": "28d769e8",
   "metadata": {},
   "source": [
    "Observation:\n",
    "The no_emp variable is skewed to the left(negative skewness), i.e. mean is less than mode"
   ]
  },
  {
   "cell_type": "code",
   "execution_count": 23,
   "id": "e42a7f03",
   "metadata": {},
   "outputs": [
    {
     "name": "stderr",
     "output_type": "stream",
     "text": [
      "C:\\Users\\Preeti\\AppData\\Local\\Temp\\ipykernel_11200\\1346469858.py:2: FutureWarning: The default value of numeric_only in DataFrame.skew is deprecated. In a future version, it will default to False. In addition, specifying 'numeric_only=None' is deprecated. Select only valid columns or specify the value of numeric_only to silence this warning.\n",
      "  skewness.skew(axis=0, skipna=True)\n"
     ]
    },
    {
     "data": {
      "text/plain": [
       "age              0.784560\n",
       "duration         3.262808\n",
       "campaign         4.762044\n",
       "pdays           -4.921386\n",
       "previous         3.831396\n",
       "EVR             -0.724061\n",
       "CPI             -0.230853\n",
       "cons.conf.idx    0.302876\n",
       "euribor         -0.709194\n",
       "no_emp          -1.044317\n",
       "y_n              2.450195\n",
       "dtype: float64"
      ]
     },
     "execution_count": 23,
     "metadata": {},
     "output_type": "execute_result"
    }
   ],
   "source": [
    "#skewness for all numericall variables\n",
    "skewness.skew(axis=0, skipna=True)"
   ]
  },
  {
   "cell_type": "markdown",
   "id": "8b902be4",
   "metadata": {},
   "source": [
    "Observation:\n",
    "* Age, Duration, Campaign, Previous and CMR are positively skewed(mean is greater than the mode)\n",
    "* pdays, emr,CPI, euribor,no_emp variables are negatively skewed( mean is smaller than the mode)\n"
   ]
  },
  {
   "cell_type": "markdown",
   "id": "c6d62d0f",
   "metadata": {},
   "source": [
    "# Data Cleaning"
   ]
  },
  {
   "cell_type": "code",
   "execution_count": 26,
   "id": "7f36f5e6",
   "metadata": {},
   "outputs": [
    {
     "name": "stdout",
     "output_type": "stream",
     "text": [
      "Bank dataset has 0 duplicates\n"
     ]
    }
   ],
   "source": [
    "#checking duplicates\n",
    "print('Bank dataset has {} duplicates'.format(bank_df.duplicated().sum()))\n"
   ]
  },
  {
   "cell_type": "code",
   "execution_count": 28,
   "id": "9eabbb0a",
   "metadata": {},
   "outputs": [
    {
     "name": "stdout",
     "output_type": "stream",
     "text": [
      "Is there any duplicates? False\n"
     ]
    }
   ],
   "source": [
    "# dropping duplicates\n",
    "bank_df.drop_duplicates(keep='first', inplace=True)\n",
    "print('Is there any duplicates?', bank_df.duplicated().any())"
   ]
  },
  {
   "cell_type": "code",
   "execution_count": 29,
   "id": "166260a0",
   "metadata": {},
   "outputs": [
    {
     "data": {
      "text/plain": [
       "age                 0\n",
       "job               330\n",
       "marital            80\n",
       "education        1730\n",
       "default          8596\n",
       "housing           990\n",
       "loan              990\n",
       "contact             0\n",
       "month               0\n",
       "day_of_week         0\n",
       "duration            0\n",
       "campaign            0\n",
       "pdays               0\n",
       "previous            0\n",
       "poutcome            0\n",
       "EVR                 0\n",
       "CPI                 0\n",
       "cons.conf.idx       0\n",
       "euribor             0\n",
       "no_emp              0\n",
       "y                   0\n",
       "y_n                 0\n",
       "dtype: int64"
      ]
     },
     "execution_count": 29,
     "metadata": {},
     "output_type": "execute_result"
    }
   ],
   "source": [
    "bank_df.isnull().sum()"
   ]
  },
  {
   "cell_type": "markdown",
   "id": "b2e6efec",
   "metadata": {},
   "source": [
    "Observation:\n",
    "    Job, marital status, education , default, housing, loan variables have missing values"
   ]
  },
  {
   "cell_type": "code",
   "execution_count": 30,
   "id": "128cb6c2",
   "metadata": {},
   "outputs": [
    {
     "name": "stdout",
     "output_type": "stream",
     "text": [
      "age = 0.00%\n",
      "job = 0.80%\n",
      "marital = 0.19%\n",
      "education = 4.20%\n",
      "default = 20.88%\n",
      "housing = 2.40%\n",
      "loan = 2.40%\n",
      "contact = 0.00%\n",
      "month = 0.00%\n",
      "day_of_week = 0.00%\n",
      "duration = 0.00%\n",
      "campaign = 0.00%\n",
      "pdays = 0.00%\n",
      "previous = 0.00%\n",
      "poutcome = 0.00%\n",
      "EVR = 0.00%\n",
      "CPI = 0.00%\n",
      "cons.conf.idx = 0.00%\n",
      "euribor = 0.00%\n",
      "no_emp = 0.00%\n",
      "y = 0.00%\n",
      "y_n = 0.00%\n"
     ]
    }
   ],
   "source": [
    "#checking missing values%\n",
    "for col in bank_df.columns:\n",
    "    print(col, '=','{:.2%}'.format(bank_df[col].isna().sum() / bank_df.shape[0]))"
   ]
  },
  {
   "cell_type": "markdown",
   "id": "d44bc9a6",
   "metadata": {},
   "source": [
    "Observation:\n",
    "* We see that all the missing data are in categorical variables\n",
    "* Default variable has the highest missing values, followed by education, housing loan, job, and marital status"
   ]
  },
  {
   "cell_type": "markdown",
   "id": "9fae7b7d",
   "metadata": {},
   "source": [
    "# Dealing with Missing Values"
   ]
  },
  {
   "cell_type": "code",
   "execution_count": 31,
   "id": "c73dc2af",
   "metadata": {},
   "outputs": [
    {
     "data": {
      "text/plain": [
       "0"
      ]
     },
     "execution_count": 31,
     "metadata": {},
     "output_type": "execute_result"
    }
   ],
   "source": [
    "# imputing null values for job variable with mode\n",
    "bank_df['default'] = bank_df['default'].fillna(bank_df['default'].mode()[0])\n",
    "bank_df.default.isna().sum()"
   ]
  },
  {
   "cell_type": "code",
   "execution_count": 32,
   "id": "a4162ad4",
   "metadata": {},
   "outputs": [
    {
     "data": {
      "text/plain": [
       "0"
      ]
     },
     "execution_count": 32,
     "metadata": {},
     "output_type": "execute_result"
    }
   ],
   "source": [
    "#imputing education status with N/A\n",
    "bank_df['education'] = bank_df.education.fillna('N/A')\n",
    "bank_df.education.isna().sum()"
   ]
  },
  {
   "cell_type": "code",
   "execution_count": 33,
   "id": "493a3bca",
   "metadata": {},
   "outputs": [
    {
     "data": {
      "text/plain": [
       "university.degree      12164\n",
       "high.school             9512\n",
       "basic.9y                6045\n",
       "professional.course     5240\n",
       "basic.4y                4176\n",
       "basic.6y                2291\n",
       "N/A                     1730\n",
       "illiterate                18\n",
       "Name: education, dtype: int64"
      ]
     },
     "execution_count": 33,
     "metadata": {},
     "output_type": "execute_result"
    }
   ],
   "source": [
    "# value_count for education\n",
    "bank_df.education.value_counts()"
   ]
  },
  {
   "cell_type": "code",
   "execution_count": 34,
   "id": "363e96f0",
   "metadata": {},
   "outputs": [
    {
     "data": {
      "text/plain": [
       "age              0\n",
       "job              0\n",
       "marital          0\n",
       "education        0\n",
       "default          0\n",
       "housing          0\n",
       "loan             0\n",
       "contact          0\n",
       "month            0\n",
       "day_of_week      0\n",
       "duration         0\n",
       "campaign         0\n",
       "pdays            0\n",
       "previous         0\n",
       "poutcome         0\n",
       "EVR              0\n",
       "CPI              0\n",
       "cons.conf.idx    0\n",
       "euribor          0\n",
       "no_emp           0\n",
       "y                0\n",
       "y_n              0\n",
       "dtype: int64"
      ]
     },
     "execution_count": 34,
     "metadata": {},
     "output_type": "execute_result"
    }
   ],
   "source": [
    "#dropping missing values in housing and loan\n",
    "bank_df.dropna(axis=0, how='any', inplace=True)\n",
    "bank_df.isna().sum()"
   ]
  },
  {
   "cell_type": "markdown",
   "id": "d472b3f1",
   "metadata": {},
   "source": [
    "Replacing Values"
   ]
  },
  {
   "cell_type": "code",
   "execution_count": 35,
   "id": "48ee69e2",
   "metadata": {},
   "outputs": [
    {
     "data": {
      "text/plain": [
       "array([ 0,  6,  4,  3,  5,  1, 10,  7,  9, 11,  2,  8, 12, 13, 14, 15, 16,\n",
       "       21, 17, 18, 22, 25, 26, 19, 27, 20], dtype=int64)"
      ]
     },
     "execution_count": 35,
     "metadata": {},
     "output_type": "execute_result"
    }
   ],
   "source": [
    "# replacing the 999 value in pdays variable to zero\n",
    "bank_df['pdays'] = bank_df['pdays'].replace([999],0)\n",
    "bank_df.pdays.unique()"
   ]
  },
  {
   "cell_type": "markdown",
   "id": "89fdf30c",
   "metadata": {},
   "source": [
    "Observation: 999 value mean the respondent was not contacted before campaign, we changed it to zero"
   ]
  },
  {
   "cell_type": "markdown",
   "id": "9940d870",
   "metadata": {},
   "source": [
    "# Checking Outliers"
   ]
  },
  {
   "cell_type": "code",
   "execution_count": 36,
   "id": "28b7022d",
   "metadata": {},
   "outputs": [
    {
     "data": {
      "image/png": "[encoded data removed]",
      "text/plain": [
       "<Figure size 1000x500 with 1 Axes>"
      ]
     },
     "metadata": {},
     "output_type": "display_data"
    }
   ],
   "source": [
    "#checking for outliers\n",
    "bank_df.boxplot(figsize=(10,5))\n",
    "plt.title('Checking Outliers')\n",
    "plt.show()"
   ]
  },
  {
   "cell_type": "code",
   "execution_count": 37,
   "id": "3f520dc8",
   "metadata": {},
   "outputs": [
    {
     "data": {
      "text/plain": [
       "Index(['age', 'job', 'marital', 'education', 'default', 'housing', 'loan',\n",
       "       'contact', 'month', 'day_of_week', 'duration', 'campaign', 'pdays',\n",
       "       'previous', 'poutcome', 'EVR', 'CPI', 'cons.conf.idx', 'euribor',\n",
       "       'no_emp', 'y', 'y_n'],\n",
       "      dtype='object')"
      ]
     },
     "execution_count": 37,
     "metadata": {},
     "output_type": "execute_result"
    }
   ],
   "source": [
    "bank_df.columns"
   ]
  },
  {
   "cell_type": "code",
   "execution_count": 38,
   "id": "29396464",
   "metadata": {},
   "outputs": [
    {
     "data": {
      "image/png": "[encoded data removed]",
      "text/plain": [
       "<Figure size 1000x500 with 1 Axes>"
      ]
     },
     "metadata": {},
     "output_type": "display_data"
    }
   ],
   "source": [
    "bank_df.boxplot(figsize=(10,5), column='age')\n",
    "plt.title('Age Outliers')\n",
    "plt.show()"
   ]
  },
  {
   "cell_type": "code",
   "execution_count": 39,
   "id": "618465f6",
   "metadata": {},
   "outputs": [
    {
     "name": "stdout",
     "output_type": "stream",
     "text": [
      "q1 : 32.0 \n",
      " q3 : 47.0 \n",
      " iqr : 15.0\n"
     ]
    }
   ],
   "source": [
    "#dealing with outliers\n",
    "#computing IQR\n",
    "q1 = bank_df['age'].quantile(0.25)\n",
    "q3 = bank_df['age'].quantile(0.75)\n",
    "iqr = q3-q1\n",
    "\n",
    "print('q1 :',q1,'\\n','q3 :',q3, '\\n', 'iqr :', iqr)"
   ]
  },
  {
   "cell_type": "code",
   "execution_count": 40,
   "id": "7ba4519a",
   "metadata": {},
   "outputs": [
    {
     "data": {
      "text/html": [
       "<div>\n",
       "<style scoped>\n",
       "    .dataframe tbody tr th:only-of-type {\n",
       "        vertical-align: middle;\n",
       "    }\n",
       "\n",
       "    .dataframe tbody tr th {\n",
       "        vertical-align: top;\n",
       "    }\n",
       "\n",
       "    .dataframe thead th {\n",
       "        text-align: right;\n",
       "    }\n",
       "</style>\n",
       "<table border=\"1\" class=\"dataframe\">\n",
       "  <thead>\n",
       "    <tr style=\"text-align: right;\">\n",
       "      <th></th>\n",
       "      <th>age</th>\n",
       "      <th>job</th>\n",
       "      <th>marital</th>\n",
       "      <th>education</th>\n",
       "      <th>default</th>\n",
       "      <th>housing</th>\n",
       "      <th>loan</th>\n",
       "      <th>contact</th>\n",
       "      <th>month</th>\n",
       "      <th>day_of_week</th>\n",
       "      <th>...</th>\n",
       "      <th>pdays</th>\n",
       "      <th>previous</th>\n",
       "      <th>poutcome</th>\n",
       "      <th>EVR</th>\n",
       "      <th>CPI</th>\n",
       "      <th>cons.conf.idx</th>\n",
       "      <th>euribor</th>\n",
       "      <th>no_emp</th>\n",
       "      <th>y</th>\n",
       "      <th>y_n</th>\n",
       "    </tr>\n",
       "  </thead>\n",
       "  <tbody>\n",
       "    <tr>\n",
       "      <th>27713</th>\n",
       "      <td>70</td>\n",
       "      <td>retired</td>\n",
       "      <td>divorced</td>\n",
       "      <td>basic.4y</td>\n",
       "      <td>no</td>\n",
       "      <td>yes</td>\n",
       "      <td>no</td>\n",
       "      <td>cellular</td>\n",
       "      <td>mar</td>\n",
       "      <td>mon</td>\n",
       "      <td>...</td>\n",
       "      <td>0</td>\n",
       "      <td>0</td>\n",
       "      <td>nonexistent</td>\n",
       "      <td>-1.8</td>\n",
       "      <td>92.843</td>\n",
       "      <td>-50.0</td>\n",
       "      <td>1.811</td>\n",
       "      <td>5099.1</td>\n",
       "      <td>yes</td>\n",
       "      <td>1.0</td>\n",
       "    </tr>\n",
       "    <tr>\n",
       "      <th>27757</th>\n",
       "      <td>76</td>\n",
       "      <td>retired</td>\n",
       "      <td>married</td>\n",
       "      <td>university.degree</td>\n",
       "      <td>no</td>\n",
       "      <td>no</td>\n",
       "      <td>yes</td>\n",
       "      <td>cellular</td>\n",
       "      <td>mar</td>\n",
       "      <td>thu</td>\n",
       "      <td>...</td>\n",
       "      <td>0</td>\n",
       "      <td>0</td>\n",
       "      <td>nonexistent</td>\n",
       "      <td>-1.8</td>\n",
       "      <td>92.843</td>\n",
       "      <td>-50.0</td>\n",
       "      <td>1.757</td>\n",
       "      <td>5099.1</td>\n",
       "      <td>no</td>\n",
       "      <td>0.0</td>\n",
       "    </tr>\n",
       "    <tr>\n",
       "      <th>27780</th>\n",
       "      <td>73</td>\n",
       "      <td>retired</td>\n",
       "      <td>married</td>\n",
       "      <td>university.degree</td>\n",
       "      <td>no</td>\n",
       "      <td>yes</td>\n",
       "      <td>no</td>\n",
       "      <td>cellular</td>\n",
       "      <td>mar</td>\n",
       "      <td>tue</td>\n",
       "      <td>...</td>\n",
       "      <td>0</td>\n",
       "      <td>1</td>\n",
       "      <td>failure</td>\n",
       "      <td>-1.8</td>\n",
       "      <td>92.843</td>\n",
       "      <td>-50.0</td>\n",
       "      <td>1.687</td>\n",
       "      <td>5099.1</td>\n",
       "      <td>no</td>\n",
       "      <td>0.0</td>\n",
       "    </tr>\n",
       "    <tr>\n",
       "      <th>27800</th>\n",
       "      <td>88</td>\n",
       "      <td>retired</td>\n",
       "      <td>divorced</td>\n",
       "      <td>basic.4y</td>\n",
       "      <td>no</td>\n",
       "      <td>yes</td>\n",
       "      <td>no</td>\n",
       "      <td>cellular</td>\n",
       "      <td>mar</td>\n",
       "      <td>wed</td>\n",
       "      <td>...</td>\n",
       "      <td>0</td>\n",
       "      <td>0</td>\n",
       "      <td>nonexistent</td>\n",
       "      <td>-1.8</td>\n",
       "      <td>92.843</td>\n",
       "      <td>-50.0</td>\n",
       "      <td>1.663</td>\n",
       "      <td>5099.1</td>\n",
       "      <td>no</td>\n",
       "      <td>0.0</td>\n",
       "    </tr>\n",
       "    <tr>\n",
       "      <th>27802</th>\n",
       "      <td>88</td>\n",
       "      <td>retired</td>\n",
       "      <td>divorced</td>\n",
       "      <td>basic.4y</td>\n",
       "      <td>no</td>\n",
       "      <td>no</td>\n",
       "      <td>no</td>\n",
       "      <td>cellular</td>\n",
       "      <td>mar</td>\n",
       "      <td>wed</td>\n",
       "      <td>...</td>\n",
       "      <td>0</td>\n",
       "      <td>0</td>\n",
       "      <td>nonexistent</td>\n",
       "      <td>-1.8</td>\n",
       "      <td>92.843</td>\n",
       "      <td>-50.0</td>\n",
       "      <td>1.663</td>\n",
       "      <td>5099.1</td>\n",
       "      <td>yes</td>\n",
       "      <td>1.0</td>\n",
       "    </tr>\n",
       "    <tr>\n",
       "      <th>...</th>\n",
       "      <td>...</td>\n",
       "      <td>...</td>\n",
       "      <td>...</td>\n",
       "      <td>...</td>\n",
       "      <td>...</td>\n",
       "      <td>...</td>\n",
       "      <td>...</td>\n",
       "      <td>...</td>\n",
       "      <td>...</td>\n",
       "      <td>...</td>\n",
       "      <td>...</td>\n",
       "      <td>...</td>\n",
       "      <td>...</td>\n",
       "      <td>...</td>\n",
       "      <td>...</td>\n",
       "      <td>...</td>\n",
       "      <td>...</td>\n",
       "      <td>...</td>\n",
       "      <td>...</td>\n",
       "      <td>...</td>\n",
       "      <td>...</td>\n",
       "    </tr>\n",
       "    <tr>\n",
       "      <th>40986</th>\n",
       "      <td>84</td>\n",
       "      <td>retired</td>\n",
       "      <td>divorced</td>\n",
       "      <td>basic.4y</td>\n",
       "      <td>no</td>\n",
       "      <td>yes</td>\n",
       "      <td>yes</td>\n",
       "      <td>cellular</td>\n",
       "      <td>oct</td>\n",
       "      <td>mon</td>\n",
       "      <td>...</td>\n",
       "      <td>3</td>\n",
       "      <td>1</td>\n",
       "      <td>success</td>\n",
       "      <td>-1.1</td>\n",
       "      <td>94.601</td>\n",
       "      <td>-49.5</td>\n",
       "      <td>1.000</td>\n",
       "      <td>4963.6</td>\n",
       "      <td>no</td>\n",
       "      <td>0.0</td>\n",
       "    </tr>\n",
       "    <tr>\n",
       "      <th>40996</th>\n",
       "      <td>81</td>\n",
       "      <td>retired</td>\n",
       "      <td>married</td>\n",
       "      <td>basic.4y</td>\n",
       "      <td>no</td>\n",
       "      <td>yes</td>\n",
       "      <td>no</td>\n",
       "      <td>cellular</td>\n",
       "      <td>oct</td>\n",
       "      <td>wed</td>\n",
       "      <td>...</td>\n",
       "      <td>0</td>\n",
       "      <td>2</td>\n",
       "      <td>failure</td>\n",
       "      <td>-1.1</td>\n",
       "      <td>94.601</td>\n",
       "      <td>-49.5</td>\n",
       "      <td>1.016</td>\n",
       "      <td>4963.6</td>\n",
       "      <td>yes</td>\n",
       "      <td>1.0</td>\n",
       "    </tr>\n",
       "    <tr>\n",
       "      <th>41004</th>\n",
       "      <td>80</td>\n",
       "      <td>retired</td>\n",
       "      <td>married</td>\n",
       "      <td>professional.course</td>\n",
       "      <td>no</td>\n",
       "      <td>yes</td>\n",
       "      <td>no</td>\n",
       "      <td>cellular</td>\n",
       "      <td>oct</td>\n",
       "      <td>thu</td>\n",
       "      <td>...</td>\n",
       "      <td>0</td>\n",
       "      <td>1</td>\n",
       "      <td>failure</td>\n",
       "      <td>-1.1</td>\n",
       "      <td>94.601</td>\n",
       "      <td>-49.5</td>\n",
       "      <td>1.025</td>\n",
       "      <td>4963.6</td>\n",
       "      <td>yes</td>\n",
       "      <td>1.0</td>\n",
       "    </tr>\n",
       "    <tr>\n",
       "      <th>41183</th>\n",
       "      <td>73</td>\n",
       "      <td>retired</td>\n",
       "      <td>married</td>\n",
       "      <td>professional.course</td>\n",
       "      <td>no</td>\n",
       "      <td>yes</td>\n",
       "      <td>no</td>\n",
       "      <td>cellular</td>\n",
       "      <td>nov</td>\n",
       "      <td>fri</td>\n",
       "      <td>...</td>\n",
       "      <td>0</td>\n",
       "      <td>0</td>\n",
       "      <td>nonexistent</td>\n",
       "      <td>-1.1</td>\n",
       "      <td>94.767</td>\n",
       "      <td>-50.8</td>\n",
       "      <td>1.028</td>\n",
       "      <td>4963.6</td>\n",
       "      <td>yes</td>\n",
       "      <td>1.0</td>\n",
       "    </tr>\n",
       "    <tr>\n",
       "      <th>41187</th>\n",
       "      <td>74</td>\n",
       "      <td>retired</td>\n",
       "      <td>married</td>\n",
       "      <td>professional.course</td>\n",
       "      <td>no</td>\n",
       "      <td>yes</td>\n",
       "      <td>no</td>\n",
       "      <td>cellular</td>\n",
       "      <td>nov</td>\n",
       "      <td>fri</td>\n",
       "      <td>...</td>\n",
       "      <td>0</td>\n",
       "      <td>1</td>\n",
       "      <td>failure</td>\n",
       "      <td>-1.1</td>\n",
       "      <td>94.767</td>\n",
       "      <td>-50.8</td>\n",
       "      <td>1.028</td>\n",
       "      <td>4963.6</td>\n",
       "      <td>no</td>\n",
       "      <td>0.0</td>\n",
       "    </tr>\n",
       "  </tbody>\n",
       "</table>\n",
       "<p>453 rows × 22 columns</p>\n",
       "</div>"
      ],
      "text/plain": [
       "       age      job   marital            education default housing loan  \\\n",
       "27713   70  retired  divorced             basic.4y      no     yes   no   \n",
       "27757   76  retired   married    university.degree      no      no  yes   \n",
       "27780   73  retired   married    university.degree      no     yes   no   \n",
       "27800   88  retired  divorced             basic.4y      no     yes   no   \n",
       "27802   88  retired  divorced             basic.4y      no      no   no   \n",
       "...    ...      ...       ...                  ...     ...     ...  ...   \n",
       "40986   84  retired  divorced             basic.4y      no     yes  yes   \n",
       "40996   81  retired   married             basic.4y      no     yes   no   \n",
       "41004   80  retired   married  professional.course      no     yes   no   \n",
       "41183   73  retired   married  professional.course      no     yes   no   \n",
       "41187   74  retired   married  professional.course      no     yes   no   \n",
       "\n",
       "        contact month day_of_week  ...  pdays  previous     poutcome  EVR  \\\n",
       "27713  cellular   mar         mon  ...      0         0  nonexistent -1.8   \n",
       "27757  cellular   mar         thu  ...      0         0  nonexistent -1.8   \n",
       "27780  cellular   mar         tue  ...      0         1      failure -1.8   \n",
       "27800  cellular   mar         wed  ...      0         0  nonexistent -1.8   \n",
       "27802  cellular   mar         wed  ...      0         0  nonexistent -1.8   \n",
       "...         ...   ...         ...  ...    ...       ...          ...  ...   \n",
       "40986  cellular   oct         mon  ...      3         1      success -1.1   \n",
       "40996  cellular   oct         wed  ...      0         2      failure -1.1   \n",
       "41004  cellular   oct         thu  ...      0         1      failure -1.1   \n",
       "41183  cellular   nov         fri  ...      0         0  nonexistent -1.1   \n",
       "41187  cellular   nov         fri  ...      0         1      failure -1.1   \n",
       "\n",
       "          CPI  cons.conf.idx  euribor  no_emp    y  y_n  \n",
       "27713  92.843          -50.0    1.811  5099.1  yes  1.0  \n",
       "27757  92.843          -50.0    1.757  5099.1   no  0.0  \n",
       "27780  92.843          -50.0    1.687  5099.1   no  0.0  \n",
       "27800  92.843          -50.0    1.663  5099.1   no  0.0  \n",
       "27802  92.843          -50.0    1.663  5099.1  yes  1.0  \n",
       "...       ...            ...      ...     ...  ...  ...  \n",
       "40986  94.601          -49.5    1.000  4963.6   no  0.0  \n",
       "40996  94.601          -49.5    1.016  4963.6  yes  1.0  \n",
       "41004  94.601          -49.5    1.025  4963.6  yes  1.0  \n",
       "41183  94.767          -50.8    1.028  4963.6  yes  1.0  \n",
       "41187  94.767          -50.8    1.028  4963.6   no  0.0  \n",
       "\n",
       "[453 rows x 22 columns]"
      ]
     },
     "execution_count": 40,
     "metadata": {},
     "output_type": "execute_result"
    }
   ],
   "source": [
    "#data with outliers\n",
    "lower_outlier = bank_df['age']< (q1-1.5*iqr)\n",
    "higher_outlier= bank_df['age']> (q3+1.5*iqr)\n",
    "bank_df[lower_outlier|higher_outlier]"
   ]
  },
  {
   "cell_type": "code",
   "execution_count": 41,
   "id": "fbde3f76",
   "metadata": {},
   "outputs": [
    {
     "data": {
      "image/png": "[encoded data removed]",
      "text/plain": [
       "<Figure size 1000x500 with 1 Axes>"
      ]
     },
     "metadata": {},
     "output_type": "display_data"
    }
   ],
   "source": [
    "# checking data without outliers\n",
    "bank_df2 =bank_df[~(lower_outlier|higher_outlier)]\n",
    "bank_df2.boxplot(figsize=(10,5),column='age')\n",
    "plt.title('Without Outliers')\n",
    "plt.show()"
   ]
  },
  {
   "cell_type": "markdown",
   "id": "31e220cb",
   "metadata": {},
   "source": [
    "Observation:\n",
    "* We removed the age outlier\n",
    "* Other variable outliers will remain unique"
   ]
  },
  {
   "cell_type": "code",
   "execution_count": 42,
   "id": "3d585cce",
   "metadata": {},
   "outputs": [
    {
     "name": "stdout",
     "output_type": "stream",
     "text": [
      "age variable mean before removing outlier is:  39.9799452137418\n",
      "age variable mean after removing outlier is:  39.55429864253394\n"
     ]
    }
   ],
   "source": [
    "#checking mean\n",
    "print(\"age variable mean before removing outlier is: \", bank_df[\"age\"].mean())\n",
    "print(\"age variable mean after removing outlier is: \", bank_df2[\"age\"].mean())"
   ]
  },
  {
   "cell_type": "markdown",
   "id": "b9b4289f",
   "metadata": {},
   "source": [
    "Making the columns/Variable Uniform"
   ]
  },
  {
   "cell_type": "code",
   "execution_count": 43,
   "id": "777c3a58",
   "metadata": {},
   "outputs": [],
   "source": [
    "# dropping 'Unnessary columns \n",
    "bank_df2 = bank_df2.drop(columns = ['duration', 'contact'])"
   ]
  },
  {
   "cell_type": "code",
   "execution_count": 44,
   "id": "2807edd8",
   "metadata": {},
   "outputs": [
    {
     "name": "stderr",
     "output_type": "stream",
     "text": [
      "C:\\Users\\Preeti\\AppData\\Local\\Temp\\ipykernel_11200\\2093155404.py:2: FutureWarning: The default value of regex will change from True to False in a future version. In addition, single character regular expressions will *not* be treated as literal strings when regex=True.\n",
      "  bank_df2.columns=bank_df2.columns.str.strip().str.replace(' ', '_').str.replace('(', '').str.replace(')', '').str.replace('.', '_')\n",
      "C:\\Users\\Preeti\\AppData\\Local\\Temp\\ipykernel_11200\\2093155404.py:2: FutureWarning: The default value of regex will change from True to False in a future version. In addition, single character regular expressions will *not* be treated as literal strings when regex=True.\n",
      "  bank_df2.columns=bank_df2.columns.str.strip().str.replace(' ', '_').str.replace('(', '').str.replace(')', '').str.replace('.', '_')\n",
      "C:\\Users\\Preeti\\AppData\\Local\\Temp\\ipykernel_11200\\2093155404.py:2: FutureWarning: The default value of regex will change from True to False in a future version. In addition, single character regular expressions will *not* be treated as literal strings when regex=True.\n",
      "  bank_df2.columns=bank_df2.columns.str.strip().str.replace(' ', '_').str.replace('(', '').str.replace(')', '').str.replace('.', '_')\n"
     ]
    },
    {
     "data": {
      "text/plain": [
       "Index(['age', 'job', 'marital', 'education', 'default', 'housing', 'loan',\n",
       "       'month', 'day_of_week', 'campaign', 'pdays', 'previous', 'poutcome',\n",
       "       'EVR', 'CPI', 'cons_conf_idx', 'euribor', 'no_emp', 'y', 'y_n'],\n",
       "      dtype='object')"
      ]
     },
     "execution_count": 44,
     "metadata": {},
     "output_type": "execute_result"
    }
   ],
   "source": [
    "# making the columns standard\n",
    "bank_df2.columns=bank_df2.columns.str.strip().str.replace(' ', '_').str.replace('(', '').str.replace(')', '').str.replace('.', '_')\n",
    "\n",
    "bank_df2.columns"
   ]
  },
  {
   "cell_type": "code",
   "execution_count": 45,
   "id": "01455709",
   "metadata": {},
   "outputs": [
    {
     "name": "stdout",
     "output_type": "stream",
     "text": [
      "Is there any duplicates?  False\n",
      "Is there any missing values?  False\n"
     ]
    }
   ],
   "source": [
    "# removing any duplicates\n",
    "bank_df2.drop_duplicates(keep='first', inplace=True)\n",
    "print (\"Is there any duplicates? \", bank_df2.duplicated().any())\n",
    "\n",
    "#checking missing values\n",
    "print (\"Is there any missing values? \", bank_df2.isna().sum().any())"
   ]
  },
  {
   "cell_type": "code",
   "execution_count": 46,
   "id": "521ef43e",
   "metadata": {},
   "outputs": [
    {
     "name": "stdout",
     "output_type": "stream",
     "text": [
      "original dataset shape (39791, 22)\n",
      "cleaned dataset shape (37180, 20)\n"
     ]
    }
   ],
   "source": [
    "#checking the shape\n",
    "print(\"original dataset shape\", bank_df.shape)\n",
    "print(\"cleaned dataset shape\", bank_df2.shape)\n"
   ]
  },
  {
   "cell_type": "code",
   "execution_count": 47,
   "id": "3975a716",
   "metadata": {},
   "outputs": [],
   "source": [
    "#clean dataset\n",
    "clean_bank_df= bank_df2.copy()\n",
    "clean_bank_df.to_csv('bank_data.csv')"
   ]
  },
  {
   "cell_type": "markdown",
   "id": "17d6722f",
   "metadata": {},
   "source": [
    "# General Observation:"
   ]
  },
  {
   "cell_type": "markdown",
   "id": "b2b26a8e",
   "metadata": {},
   "source": [
    "* The data cover a period from May 2008 to November 2010..\n",
    "* There are 2 dataset, the second dataset is a sample of the first dataset\n",
    "* There are 10 integers and 11 categorical variables\n",
    "* The missing values in bot datasets are presented by \"unkown\" string.\n",
    "* There are missing values in six variables namely, job, marital status, education, default, housing, and loan.\n",
    "* There are 12 duplicates in the first dataset and no duplicates in the sample dataset.\n",
    "* The targent variable is unbalanced class , \"no\" class has more observation than \"yes\" class in both dataset.\n",
    "* Columns are not uniformed named for example \"day_of_week\", and \"emp.var.rate\". this need to be modified.\n",
    "* All varaibles in both datasets have the right datatypes."
   ]
  },
  {
   "cell_type": "code",
   "execution_count": null,
   "id": "110d546b",
   "metadata": {},
   "outputs": [],
   "source": []
  }
 ],
 "metadata": {
  "kernelspec": {
   "display_name": "Python 3 (ipykernel)",
   "language": "python",
   "name": "python3"
  },
  "language_info": {
   "codemirror_mode": {
    "name": "ipython",
    "version": 3
   },
   "file_extension": ".py",
   "mimetype": "text/x-python",
   "name": "python",
   "nbconvert_exporter": "python",
   "pygments_lexer": "ipython3",
   "version": "3.9.12"
  }
 },
 "nbformat": 4,
 "nbformat_minor": 5
}
